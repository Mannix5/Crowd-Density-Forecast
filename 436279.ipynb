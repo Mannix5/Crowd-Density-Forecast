{
 "cells": [
  {
   "cell_type": "code",
   "execution_count": 1,
   "metadata": {
    "collapsed": false
   },
   "outputs": [
    {
     "name": "stdout",
     "output_type": "stream",
     "text": [
      "data1917\r\n"
     ]
    }
   ],
   "source": [
    "# 查看当前挂载的数据集目录, 该目录下的变更重启环境后会自动还原\n",
    "# View dataset directory. This directory will be recovered automatically after resetting environment. \n",
    "!ls /home/aistudio/data"
   ]
  },
  {
   "cell_type": "code",
   "execution_count": 2,
   "metadata": {
    "collapsed": false
   },
   "outputs": [],
   "source": [
    "# 查看工作区文件, 该目录下的变更将会持久保存. 请及时清理不必要的文件, 避免加载过慢.\n",
    "# View personal work directory. All changes under this directory will be kept even after reset. Please clean unnecessary files in time to speed up environment loading.\n",
    "!ls /home/aistudio/work"
   ]
  },
  {
   "cell_type": "markdown",
   "metadata": {
    "collapsed": false
   },
   "source": [
    "请点击[此处](https://ai.baidu.com/docs#/AIStudio_Project_Notebook/a38e5576)查看本环境基本用法.  <br>\n",
    "Please click [here ](https://ai.baidu.com/docs#/AIStudio_Project_Notebook/a38e5576) for more detailed instructions. "
   ]
  },
  {
   "cell_type": "code",
   "execution_count": 3,
   "metadata": {
    "collapsed": false
   },
   "outputs": [],
   "source": [
    "import zipfile\r\n",
    "import paddle\r\n",
    "import paddle.fluid as fluid\r\n",
    "import matplotlib.pyplot as plt\r\n",
    "import matplotlib.image as mping\r\n",
    "from PIL import Image\r\n",
    "import json\r\n",
    "import numpy as np\r\n",
    "import cv2\r\n",
    "import sys\r\n",
    "import time\r\n",
    "import h5py\r\n",
    "from matplotlib import pyplot as plt\r\n",
    "from scipy.ndimage.filters import gaussian_filter \r\n",
    "import scipy\r\n",
    "from matplotlib import cm as CM\r\n",
    "from paddle.utils.plot import Ploter\r\n",
    "import os"
   ]
  },
  {
   "cell_type": "code",
   "execution_count": 4,
   "metadata": {
    "collapsed": false
   },
   "outputs": [],
   "source": [
    "# 解压文件\r\n",
    "if(not os.path.isdir(\"train\")):     \r\n",
    "        z = zipfile.ZipFile(\"data/data1917/train_new.zip\", 'r')\r\n",
    "        z.extractall(\"\")\r\n",
    "        z.close()\r\n",
    "start = time.time()"
   ]
  },
  {
   "cell_type": "code",
   "execution_count": 5,
   "metadata": {
    "collapsed": false
   },
   "outputs": [],
   "source": [
    "# 把图片对应的标签装入字典\r\n",
    "f = open('/home/aistudio/data/data1917/train.json',encoding='utf-8')\r\n",
    "content = json.load(f)"
   ]
  },
  {
   "cell_type": "code",
   "execution_count": 6,
   "metadata": {
    "collapsed": false
   },
   "outputs": [],
   "source": [
    "# 数据处理\r\n",
    "need_data = []\r\n",
    "for j in range(len(content['annotations'])):\r\n",
    "    if content['annotations'][j]['num'] <= 20:\r\n",
    "        need_data.append(content['annotations'][j])\r\n",
    "for j in range(len(need_data)):\r\n",
    "    need_data[j]['name'] = need_data[j]['name'].lstrip('stage1').lstrip('/')\r\n",
    "# 将数据分为测试集和训练集\r\n",
    "train_data = []\r\n",
    "test_data = []\r\n",
    "for j in range(len(need_data)):\r\n",
    "    if j % 10 == 0:\r\n",
    "        test_data.append(need_data[j])\r\n",
    "    else:\r\n",
    "        train_data.append(need_data[j])"
   ]
  },
  {
   "cell_type": "code",
   "execution_count": 7,
   "metadata": {
    "collapsed": false
   },
   "outputs": [],
   "source": [
    "def gaussian_filter_density(gt):\r\n",
    "    #Generates a density map using Gaussian filter transformation\r\n",
    "    \r\n",
    "    density = np.zeros(gt.shape, dtype=np.float32)\r\n",
    "    \r\n",
    "    gt_count = np.count_nonzero(gt)\r\n",
    "    \r\n",
    "    if gt_count == 0:\r\n",
    "        return density\r\n",
    "\r\n",
    "    # FInd out the K nearest neighbours using a KDTree\r\n",
    "    \r\n",
    "    pts = np.array(list(zip(np.nonzero(gt)[1].ravel(), np.nonzero(gt)[0].ravel())))\r\n",
    "    \r\n",
    "    # if gt_count > 0 and gt_count < 20: \r\n",
    "    \r\n",
    "    # leafsize = 2048\r\n",
    "\r\n",
    "    # # build kdtree\r\n",
    "    # tree = scipy.spatial.KDTree(pts.copy(), leafsize=leafsize)\r\n",
    "    \r\n",
    "    # query kdtree\r\n",
    "    # distances, locations = tree.query(pts, k=4)\r\n",
    "    for i, pt in enumerate(pts):\r\n",
    "        pt2d = np.zeros(gt.shape, dtype=np.float32)\r\n",
    "        pt2d[pt[1],pt[0]] = 1.\r\n",
    "        if gt_count > 1:\r\n",
    "            # sigma = (distances[i][1]+distances[i][2]+distances[i][3])*0.1\r\n",
    "            sigma = 25\r\n",
    "        else:\r\n",
    "            sigma = np.average(np.array(gt.shape))/2./2. #case: 1 point\r\n",
    "        \r\n",
    "        density += scipy.ndimage.filters.gaussian_filter(pt2d, sigma, mode='constant')\r\n",
    "\r\n",
    "    return density\r\n"
   ]
  },
  {
   "cell_type": "code",
   "execution_count": 8,
   "metadata": {
    "collapsed": false
   },
   "outputs": [],
   "source": [
    "#图片操作\r\n",
    "def picture_opt(img,ann):\r\n",
    "    size_x,size_y = img.size\r\n",
    "    train_img_size = (640,480)\r\n",
    "    img = img.resize(train_img_size,Image.ANTIALIAS)\r\n",
    "    img = np.array(img)                  \r\n",
    "    img = img / 255.0\r\n",
    "\r\n",
    "    gt = []\r\n",
    "    for b_l in range(len(ann)):                             \r\n",
    "        if 'w' in ann[b_l].keys(): \r\n",
    "            x = (ann[b_l]['x']+(ann[b_l]['x']+ann[b_l]['w']))/2\r\n",
    "            y = ann[b_l]['y']+20\r\n",
    "            x = (x*640/size_x)/8\r\n",
    "            y = (y*480/size_y)/8\r\n",
    "            gt.append((x,y))   \r\n",
    "        else:\r\n",
    "            x = ann[b_l]['x']\r\n",
    "            y = ann[b_l]['y']\r\n",
    "            x = (x*640/size_x)/8\r\n",
    "            y = (y*480/size_y)/8\r\n",
    "            gt.append((x,y)) \r\n",
    "\r\n",
    "    return img,gt\r\n"
   ]
  },
  {
   "cell_type": "code",
   "execution_count": 9,
   "metadata": {
    "collapsed": false
   },
   "outputs": [],
   "source": [
    "#密度图处理\r\n",
    "def ground(img,gt):\r\n",
    "    imgs = img\r\n",
    "    x = imgs.shape[0]/8\r\n",
    "    y = imgs.shape[1]/8\r\n",
    "    k = np.zeros((int(x),int(y)))\r\n",
    "\r\n",
    "    for i in range(0,len(gt)):\r\n",
    "        if int(gt[i][1]) < int(x) and int(gt[i][0]) < int(y):\r\n",
    "            k[int(gt[i][1]),int(gt[i][0])]=1\r\n",
    "\r\n",
    "    k = gaussian_filter_density(k)\r\n",
    "    return k"
   ]
  },
  {
   "cell_type": "code",
   "execution_count": 10,
   "metadata": {
    "collapsed": false
   },
   "outputs": [],
   "source": [
    "def train_r():\r\n",
    "    def reader():\r\n",
    "        for index in range(len(train_data)):\r\n",
    "            #把忽略区域都用像素为0填上\r\n",
    "            if train_data[index]['ignore_region']:\r\n",
    "                if len(train_data[index]['ignore_region'])==2:\r\n",
    "                    continue\r\n",
    "                if len(train_data[index]['ignore_region'])==1:\r\n",
    "                    ig_list = []  \r\n",
    "                    ign_rge = train_data[index]['ignore_region'][0]\r\n",
    "                    for ig_len in range(len(ign_rge)):\r\n",
    "                        ig_list.append([ign_rge[ig_len]['x'],ign_rge[ig_len]['y']])\r\n",
    "                    ig_cv_img = cv2.imread(train_data[index]['name'])\r\n",
    "                    pts = np.array(ig_list,np.int32)\r\n",
    "                    cv2.fillPoly(ig_cv_img,[pts],(0,0,0),cv2.LINE_AA)\r\n",
    "                    ig_img = Image.fromarray(cv2.cvtColor(ig_cv_img,cv2.COLOR_BGR2RGB))\r\n",
    "                    ann = train_data[index]['annotation']                   \r\n",
    "                    ig_im,gt = picture_opt(ig_img,ann)\r\n",
    "                    k = ground(ig_im,gt)\r\n",
    "                    groundtruth = np.asarray(k)\r\n",
    "                    groundtruth = groundtruth.T.astype('float32')\r\n",
    "                    ig_im = ig_im.transpose().astype('float32')\r\n",
    "                    yield ig_im,groundtruth\r\n",
    "            else:\r\n",
    "                img = Image.open(train_data[index]['name'])\r\n",
    "                ann = train_data[index]['annotation']\r\n",
    "                im,gt = picture_opt(img,ann)\r\n",
    "                k = ground(im,gt)\r\n",
    "                groundtruth = np.asarray(k)\r\n",
    "                groundtruth = groundtruth.T.astype('float32')\r\n",
    "                im = im.transpose().astype('float32')\r\n",
    "                yield im,groundtruth\r\n",
    "    return reader"
   ]
  },
  {
   "cell_type": "code",
   "execution_count": 11,
   "metadata": {
    "collapsed": false
   },
   "outputs": [],
   "source": [
    "def CVPR_15(img):\r\n",
    "    # 网络一\r\n",
    "    x = fluid.layers.conv2d(input=img, num_filters=64, filter_size=3, padding=1, act='relu')\r\n",
    "    x = fluid.layers.conv2d(input=x, num_filters=64, filter_size=3, padding=1, act='relu')  \r\n",
    "    x = fluid.layers.pool2d(input=x, pool_size=2, pool_stride=2, pool_type='max')  \r\n",
    "\r\n",
    "    x = fluid.layers.conv2d(input=x, num_filters=128, filter_size=3, padding=1, act='relu')  \r\n",
    "    x = fluid.layers.conv2d(input=x, num_filters=128, filter_size=3, padding=1, act='relu') \r\n",
    "    x = fluid.layers.pool2d(input=x, pool_size=2, pool_stride=2, pool_type='max')\r\n",
    "    \r\n",
    "    x = fluid.layers.conv2d(input=x, num_filters=256, filter_size=3, padding=1, act='relu') \r\n",
    "    x = fluid.layers.conv2d(input=x, num_filters=256, filter_size=3, padding=1, act='relu') \r\n",
    "    x = fluid.layers.conv2d(input=x, num_filters=256, filter_size=3, padding=1, act='relu')  \r\n",
    "    x = fluid.layers.pool2d(input=x, pool_size=2, pool_stride=2, pool_type='max')\r\n",
    "\r\n",
    "    x = fluid.layers.conv2d(input=x, num_filters=512, filter_size=3, padding=1, act='relu') \r\n",
    "    x = fluid.layers.conv2d(input=x, num_filters=512, filter_size=3, padding=1, act='relu') \r\n",
    "    x = fluid.layers.conv2d(input=x, num_filters=512, filter_size=3, padding=1)\r\n",
    "    x = fluid.layers.pool2d(input=x, pool_size=3, pool_stride=3, pool_type='max')\r\n",
    "\r\n",
    "    x = fluid.layers.conv2d(input=x, num_filters=512, filter_size=3, padding=1, act='relu') \r\n",
    "    x = fluid.layers.conv2d(input=x, num_filters=512, filter_size=3, padding=1, act='relu') \r\n",
    "    x = fluid.layers.conv2d(input=x, num_filters=512, filter_size=3, padding=1)\r\n",
    "\r\n",
    "    # 网络二\r\n",
    "    y = fluid.layers.conv2d(input=img, num_filters=24, filter_size=5, padding=1, act='relu')\r\n",
    "    y = fluid.layers.pool2d(input=y, pool_size=5, pool_stride=5, pool_type='avg')\r\n",
    "\r\n",
    "    y = fluid.layers.conv2d(input=y, num_filters=24, filter_size=5, padding=1, act='relu')\r\n",
    "    y = fluid.layers.pool2d(input=y, pool_size=5, pool_stride=5, pool_type='avg')\r\n",
    "\r\n",
    "    y = fluid.layers.conv2d(input=y, num_filters=24, filter_size=5, padding=1, act='relu')\r\n",
    "    y = fluid.layers.pool2d(input=y, pool_size=5, pool_stride=5, pool_type='avg')\r\n",
    "\r\n",
    "    # 特征融合\r\n",
    "    output = fluid.layers.concat(input=[x,y], axis=0)\r\n",
    "    output = fluid.layers.conv2d(input=output, num_filters=1, filter_size=1, act=None)\r\n",
    "    return output\r\n"
   ]
  },
  {
   "cell_type": "code",
   "execution_count": 12,
   "metadata": {
    "collapsed": false
   },
   "outputs": [],
   "source": [
    "def CSRnet(img):\r\n",
    "    # front-end\r\n",
    "    x = fluid.layers.conv2d(input=img, num_filters=64, filter_size=3, padding=1, act='relu')\r\n",
    "    x = fluid.layers.conv2d(input=x, num_filters=64, filter_size=3, padding=1, act='relu')  \r\n",
    "    x = fluid.layers.pool2d(input=x, pool_size=2, pool_stride=2, pool_type='max')  \r\n",
    "\r\n",
    "    x = fluid.layers.conv2d(input=x, num_filters=128, filter_size=3, padding=1, act='relu')  \r\n",
    "    x = fluid.layers.conv2d(input=x, num_filters=128, filter_size=3, padding=1, act='relu') \r\n",
    "    x = fluid.layers.pool2d(input=x, pool_size=2, pool_stride=2, pool_type='max')\r\n",
    "    \r\n",
    "    x = fluid.layers.conv2d(input=x, num_filters=256, filter_size=3, padding=1, act='relu') \r\n",
    "    x = fluid.layers.conv2d(input=x, num_filters=256, filter_size=3, padding=1, act='relu') \r\n",
    "    x = fluid.layers.conv2d(input=x, num_filters=256, filter_size=3, padding=1, act='relu')  \r\n",
    "    x = fluid.layers.pool2d(input=x, pool_size=2, pool_stride=2, pool_type='max')\r\n",
    "\r\n",
    "    x = fluid.layers.conv2d(input=x, num_filters=512, filter_size=3, padding=1, act='relu') \r\n",
    "    x = fluid.layers.conv2d(input=x, num_filters=512, filter_size=3, padding=1, act='relu') \r\n",
    "    x = fluid.layers.conv2d(input=x, num_filters=512, filter_size=3, padding=1)  \r\n",
    "\r\n",
    "    # back-end\r\n",
    "    x = fluid.layers.conv2d(input=x, num_filters=512, filter_size=3, padding=1, dilation=1, act='relu') \r\n",
    "    x = fluid.layers.conv2d(input=x, num_filters=512, filter_size=3, padding=1, dilation=1, act='relu') \r\n",
    "    x = fluid.layers.conv2d(input=x, num_filters=512, filter_size=3, padding=1, dilation=1, act='relu') \r\n",
    "    x = fluid.layers.conv2d(input=x, num_filters=256, filter_size=3, padding=1, dilation=1, act='relu')\r\n",
    "    x = fluid.layers.conv2d(input=x, num_filters=128, filter_size=3, padding=1, dilation=1, act='relu') \r\n",
    "    x = fluid.layers.conv2d(input=x, num_filters=64, filter_size=3, padding=1, dilation=1, act='relu')\r\n",
    "    \r\n",
    "    output = fluid.layers.conv2d(input=x, num_filters=1, filter_size=1, act=None) \r\n",
    "    print(output.shape)\r\n",
    "    return output"
   ]
  },
  {
   "cell_type": "code",
   "execution_count": 13,
   "metadata": {
    "collapsed": false
   },
   "outputs": [
    {
     "name": "stdout",
     "output_type": "stream",
     "text": [
      "(-1, 1, 80, 60)\n"
     ]
    }
   ],
   "source": [
    "images = fluid.layers.data(name='images',shape=[3,640,480],dtype='float32')\r\n",
    "label = fluid.layers.data(name='label',shape=[1,80,60],dtype='float32')\r\n",
    "net = CSRnet(images)"
   ]
  },
  {
   "cell_type": "code",
   "execution_count": 14,
   "metadata": {
    "collapsed": false
   },
   "outputs": [],
   "source": [
    "squar = fluid.layers.square_error_cost(input=net, label=label)\r\n",
    "cost = fluid.layers.sqrt(squar, name=None)\r\n",
    "avg_cost = fluid.layers.mean(cost)"
   ]
  },
  {
   "cell_type": "code",
   "execution_count": 15,
   "metadata": {
    "collapsed": false
   },
   "outputs": [],
   "source": [
    "# 创建优化器optimizer，下面列举了2种常用的优化器，不同类型优化器选一即可\r\n",
    "# 创建Momentum优化器，并设置学习率(learning_rate)、动量(momentum)\r\n",
    "# optimizer = fluid.optimizer.Momentum(\r\n",
    "#     learning_rate=0.001,\r\n",
    "#     momentum=0.8)\r\n",
    "optimizer = fluid.optimizer.AdamOptimizer(learning_rate=1e-6)# 1e-6\r\n",
    "# optimizer = fluid.optimizer.SGD(learning_rate=1e-5)\r\n",
    "opt = optimizer.minimize(avg_cost)"
   ]
  },
  {
   "cell_type": "code",
   "execution_count": 16,
   "metadata": {
    "collapsed": false
   },
   "outputs": [
    {
     "data": {
      "text/plain": [
       "[]"
      ]
     },
     "execution_count": 16,
     "metadata": {},
     "output_type": "execute_result"
    }
   ],
   "source": [
    "# 创建执行器\r\n",
    "use_cuda = True\r\n",
    "place = fluid.CUDAPlace(0) if use_cuda else fluid.CPUPlace()\r\n",
    "exe = fluid.Executor(place=place)\r\n",
    "exe.run(program=fluid.default_startup_program())"
   ]
  },
  {
   "cell_type": "code",
   "execution_count": 17,
   "metadata": {
    "collapsed": false
   },
   "outputs": [],
   "source": [
    "# 设置训练reader\r\n",
    "BUF_SIZE = 50 # 缓存的数量\r\n",
    "BATCH_SIZE= 20 # 每次得到的图片数量为BUF_SIZE/BATCH_SIZE\r\n",
    "train_reader = paddle.batch(reader=paddle.reader.shuffle(reader=train_r(), buf_size=BUF_SIZE), batch_size=BATCH_SIZE)"
   ]
  },
  {
   "cell_type": "code",
   "execution_count": 18,
   "metadata": {
    "collapsed": false
   },
   "outputs": [],
   "source": [
    "# 定义输入数据的维度\r\n",
    "feeder = fluid.DataFeeder(feed_list=[images, label],place=place)\r\n",
    "#训练保存\r\n",
    "model_save_dir = 'model'"
   ]
  },
  {
   "cell_type": "code",
   "execution_count": 19,
   "metadata": {
    "collapsed": false
   },
   "outputs": [],
   "source": [
    "train_prompt = \"Train cost\"\r\n",
    "cost_ploter = Ploter(train_prompt)\r\n",
    "def event_handler_plot(ploter_title, step, cost):\r\n",
    "    cost_ploter.append(ploter_title, step, cost)\r\n",
    "    cost_ploter.plot()"
   ]
  },
  {
   "cell_type": "code",
   "execution_count": 20,
   "metadata": {
    "collapsed": false
   },
   "outputs": [
    {
     "data": {
      "image/png": "[encoded data removed]",
      "text/plain": [
       "<Figure size 432x288 with 1 Axes>"
      ]
     },
     "metadata": {},
     "output_type": "display_data"
    },
    {
     "name": "stdout",
     "output_type": "stream",
     "text": [
      "[-30.47263, 26.574163, 19.89978, -8.452182, -95.25432, -20.330183, 64.27954, -87.1494, 28.29589, 46.90323, 28.37881, -61.38383, -54.340546, 70.99138, 52.369774, -0.9055729, -94.35422, -34.456104, -120.19591, -34.33035] [6.640066, 2.9177027, 1.6523756, 3.5643258, 10.630569, 6.410203, 2.305056, 7.697255, 0.7099135, 5.9921017, 4.371376, 6.115739, 6.2392426, 9.059931, 1.1422112, 8.857534, 4.171547, 6.839027, 5.8821964, 6.1664467] -303.93268 107.364815\n",
      "Pass:0, Batch:10, Cost:0.14405\n",
      "[143.58485, 150.73677, 110.214584, 86.71442, 108.91911, 169.87097, 155.83533, 156.93549, 211.0217, 182.79808, 180.80682, 121.635574, 147.23334, 167.80606, 194.43063, 128.90022, 195.9967, 155.76921, 128.43689, 124.8302] [3.2026992, 8.900888, 6.1544075, 6.79438, 1.1615486, 6.4451017, 4.9700055, 5.7612104, 6.2568245, 3.9614086, 2.1611505, 10.4135475, 1.6742449, 2.1815052, 3.5811744, 6.425334, 7.7737217, 7.9830523, 8.15143, 7.8613353] 3022.4768 111.81497\n",
      "Pass:0, Batch:20, Cost:0.12911\n",
      "[-27.722927, -54.42668, -60.608295, -77.956024, -47.725243, -36.454758, -76.09282, -2.9357967, -25.956287, -25.560225, -41.336567, 22.976276, -77.0862, -98.65795, -107.68617, -77.719444, -43.85675, -107.55086, 19.786053, -62.40087] [9.8365555, 2.0447097, 2.2902412, 6.899564, 10.800884, 9.635557, 8.528633, 10.709112, 5.3476553, 5.3775473, 6.711399, 8.243607, 10.403293, 6.2427845, 5.975891, 1.5582408, 6.0269876, 7.211034, 3.0196447, 1.844347] -1008.97144 128.70767\n",
      "Pass:0, Batch:30, Cost:0.12173\n",
      "[-77.94403, -101.40416, -54.023754, -108.91122, -50.345535, -101.96214, -23.217144, -36.59348, -59.08814, -61.65506, -65.16377, -51.804554, -96.99123, -51.403442, -73.52761, -81.69467, -43.33463, -7.7604585, -53.87882, -29.975086] [10.054229, 5.379464, 8.012651, 1.9667903, 2.328415, 9.219875, 3.0327668, 5.605677, 3.7312303, 1.8101048, 5.305433, 4.728646, 7.147463, 6.040362, 6.203907, 5.937213, 3.6608708, 5.0188074, 2.8671713, 3.144795] -1230.679 101.19587\n",
      "Pass:0, Batch:40, Cost:0.10509\n",
      "[-16.043667, -19.155518, 1.4826877, -13.985994, -33.47027, -30.634907, -14.621592, 1.32406, -58.690884, -10.195575, -9.683537, 2.1118932, 6.556036, -23.248951, 43.197247, -1.8014073, 0.0379076, 0.8702488, -23.002903, 5.4833984] [4.578384, 5.540941, 1.6231678, 5.4845695, 7.667061, 6.1663227, 4.947003, 3.6952477, 1.1764023, 5.897443, 6.2371845, 1.7979419, 3.1317203, 6.832408, 11.739751, 8.163823, 6.01795, 4.275826, 4.4549413, 9.625693] -193.4717 109.05378\n",
      "Pass:0, Batch:50, Cost:0.08908\n",
      "[-6.626994, 4.5441284, 12.140791, 12.258934, 5.20303, 16.165466, 23.599222, -15.162006, 21.083035, -13.066294, 48.530388, 46.232082, 7.7427173, 12.660832, 13.541885, 47.883865, 13.6910925, 11.722835, 2.5659695, 9.911566] [2.9087627, 9.944328, 10.46565, 3.4725296, 3.7116408, 4.6221876, 4.4261017, 8.745859, 4.940075, 7.6503305, 2.7849836, 8.498955, 5.384259, 3.4024668, 6.285772, 12.013887, 2.9147065, 4.8153114, 1.0279951, 10.187302] 274.62256 118.20311\n",
      "Pass:1, Batch:0, Cost:0.08763\n",
      "[-23.019518, 9.335321, -25.071474, -0.09567928, 0.25631332, 4.2995462, -45.772644, 26.937439, 27.263872, 15.447302, 23.728794, 14.308374, -21.611776, 0.13061857, -2.2744746, 27.786928, 11.435372, 15.876013, -34.79908, 18.929562] [6.1664467, 6.410203, 5.8821964, 9.895632, 3.757134, 2.9177027, 0.8564086, 3.7128663, 5.3838086, 6.640066, 1.6523756, 5.4099474, 2.1338892, 1.1422112, 7.7341404, 3.1509576, 5.102892, 4.7414184, 2.2843778, 6.695553] 43.090805 91.67022\n",
      "Pass:1, Batch:10, Cost:0.07892\n",
      "[16.039408, -18.362694, 30.322792, 5.8554916, 26.45489, -3.0048218, 2.95253, 10.4914055, -10.549338, -8.9030485, -0.7412071, -13.28937, 20.978054, -8.067717, 3.960095, 5.5111036, 11.2542, 23.359406, 26.066238, 17.926435] [4.951106, 5.727578, 3.5811744, 4.2707777, 8.900888, 1.6742449, 7.8613353, 7.694992, 4.2353344, 8.225693, 10.4135475, 3.2026992, 2.9649224, 8.794905, 4.0740566, 5.7612104, 2.1815052, 6.4451017, 7.7737217, 6.764076] 138.25386 115.49886\n",
      "Pass:1, Batch:20, Cost:0.08181\n",
      "[25.36967, 29.127518, -17.594944, -34.691833, -13.243095, 9.7218275, 6.872543, -14.874195, 12.631933, 5.027589, 33.990997, -5.1093187, -21.58096, 18.29014, -32.85179, 9.346795, -24.829002, 17.912804, 26.418781, -4.804377] [3.8081264, 4.129794, 6.2427845, 2.0447097, 5.975891, 7.3766565, 2.2902412, 6.03146, 10.403293, 6.0269876, 10.709112, 5.555872, 6.865115, 3.0196447, 6.062809, 7.147562, 0.7246909, 7.0367804, 2.956478, 1.0527394] 25.131088 105.46075\n",
      "Pass:1, Batch:30, Cost:0.08381\n",
      "[1.6856508, 11.50798, 41.026062, 16.094467, 19.877262, 32.443813, 37.390564, 0.91632986, 25.216448, -13.491295, 4.378456, 26.81789, 37.476593, 32.530197, 48.108856, 45.49462, 27.712576, 40.676357, 34.201065, 38.734116] [10.003301, 2.328415, 3.6710732, 5.6547346, 5.305433, 3.342513, 8.966055, 11.127246, 10.054229, 1.8101048, 10.324085, 3.0327668, 4.728646, 5.0188074, 8.012651, 7.5447226, 6.040362, 6.021005, 3.3406816, 2.969574] 508.798 119.29641\n",
      "Pass:1, Batch:40, Cost:0.07773\n",
      "[28.094658, -17.299263, 11.061513, 42.166115, -18.726555, 32.150948, 23.101341, 18.036354, 21.099554, 41.647903, 27.221752, 24.851452, 29.88675, 32.024487, 27.672728, 29.4277, 32.423744, -15.196347, 4.9673877, 39.661163] [2.565537, 1.1764023, 7.667061, 6.4255333, 0.8192975, 4.7337456, 9.357639, 4.4549413, 11.879709, 7.45603, 6.250125, 5.1588793, 3.6952477, 6.160283, 5.8785686, 3.1317203, 6.01795, 6.1663227, 5.4845695, 10.293243] 414.2734 114.77281\n",
      "Pass:1, Batch:50, Cost:0.06955\n",
      "[-15.903994, -6.56688, 7.782281, -6.8958554, -3.7575345, -13.895252, -21.363691, 7.645328, -3.0196342, -26.66712, -0.6432004, 7.5788813, 4.9979095, 6.4179845, 16.056425, -0.26182318, -28.12502, -29.206326, 10.137802, 6.057186] [6.6277304, 2.0525677, 6.9075584, 2.3870354, 4.028995, 10.187302, 3.166439, 3.4198499, 9.944328, 6.749709, 2.113051, 8.498955, 4.8153114, 3.1146402, 2.1799564, 5.384259, 7.083254, 6.1854253, 2.9147065, 2.7849836] -89.63253 100.54607\n",
      "Pass:2, Batch:0, Cost:0.06757\n",
      "[-15.9859915, 6.5245113, 12.036693, -21.267805, 10.765801, 10.01798, -1.2341521, 5.460969, -0.6015501, 22.904364, -15.835672, -26.160187, 12.3191, 8.151622, 16.221344, 10.891097, 21.11346, -11.195218, -15.270807, 4.591244] [5.8821964, 0.7099135, 9.059931, 9.895632, 5.102892, 10.119072, 6.410203, 4.371376, 7.77254, 3.7128663, 2.1338892, 6.1664467, 1.6523756, 5.9921017, 10.208103, 6.9521914, 2.305056, 10.058421, 5.846792, 6.238836] 33.446804 120.59084\n",
      "Pass:2, Batch:10, Cost:0.06979\n",
      "[5.002795, -3.7665634, -6.9405937, 3.182043, 4.553274, -13.904043, -14.506135, -9.197691, -17.576761, -26.88198, 13.323498, -15.983222, 12.598063, 12.847631, 15.290436, 9.157048, -8.442914, -13.493877, 3.2242048, 17.886885] [4.2707777, 6.764076, 1.0570883, 7.733459, 8.572353, 5.6182795, 8.794905, 4.9700055, 5.7721853, 1.1615486, 4.2814274, 3.2026992, 4.951106, 2.2571716, 2.9649224, 8.384289, 6.425334, 8.15143, 7.9830523, 6.4451017] -33.627907 109.76121\n",
      "Pass:2, Batch:20, Cost:0.06918\n",
      "[20.221277, 4.553319, -19.184412, -5.762211, 10.299888, -23.35886, 22.12759, -18.641811, 6.3054576, -14.365288, 11.027061, 25.84028, 22.437881, 10.312866, 21.784996, -8.243895, 19.948254, 18.971813, 14.219134, -19.535465] [3.8081264, 7.147562, 6.0691338, 5.975891, 7.3766565, 1.5582408, 2.3435807, 1.6694992, 6.899564, 2.0447097, 5.678901, 2.32145, 10.709112, 10.403293, 3.5099096, 0.7246909, 2.7728286, 1.5593128, 10.800884, 6.062809] 98.957886 99.43616\n",
      "Pass:2, Batch:30, Cost:0.06416\n",
      "[0.5841558, 11.251429, 32.306404, 25.696787, 29.341347, 25.513676, 4.7228036, 25.568213, 3.8902912, 13.161026, -21.02444, 24.164585, 27.712502, 22.16493, 26.852232, 7.2547727, 18.557327, 3.2493305, -0.36095905, 29.052996] [10.003301, 5.605677, 3.4821181, 2.6512945, 2.8671713, 10.670172, 2.328415, 2.2874358, 9.219875, 7.8564076, 1.1171432, 4.728646, 8.012651, 3.3406816, 2.969574, 9.04141, 5.305433, 5.937213, 1.9667903, 3.6608708] 309.65942 103.052284\n",
      "Pass:2, Batch:40, Cost:0.06286\n",
      "[-10.5040455, 20.134893, 9.359824, 14.380815, 16.45043, 18.346336, 13.502395, 18.02136, -0.11001873, -8.795441, -4.3222723, 18.219612, 18.950737, -2.0180874, -20.372097, 4.027536, 16.806353, -0.42589092, 14.647992, 6.3030767] [6.7719817, 7.9264736, 4.4549413, 5.8785686, 5.897443, 4.275826, 1.7979419, 3.2954636, 5.540941, 1.1764023, 8.904215, 9.387604, 4.552245, 7.172395, 0.8192975, 8.163823, 10.234816, 5.4845695, 2.3543425, 11.879709] 142.60352 115.968994\n",
      "Pass:2, Batch:50, Cost:0.06333\n",
      "[14.293779, 17.829527, 8.4036875, 14.054594, 17.775448, 15.42326, 18.970047, -7.149001, 16.98119, -1.9327931, 6.188176, 0.77773666, 15.837137, 14.1415, 15.507957, -10.636738, 0.7726388, 11.347097, 2.2039356, 17.415] [1.2216958, 2.9147065, 2.9087627, 9.944328, 3.4024668, 2.812138, 4.6221876, 2.2556977, 4.8153114, 6.6277304, 8.783466, 8.745859, 2.1264763, 6.285772, 6.9075584, 3.166439, 4.7595677, 8.498955, 2.0016217, 3.4198499] 188.2042 96.22059\n",
      "Pass:3, Batch:0, Cost:0.05836\n",
      "[5.3445225, 3.8439941, 21.810106, 16.25919, 17.123487, -12.243122, 2.8298945, 20.519814, -0.34906006, 17.995312, 22.460724, -7.259012, 19.87297, 8.832796, 6.233856, 9.682484, -8.442629, 21.020308, 15.131849, 26.33552] [5.233057, 5.7263517, 6.0644493, 7.7341404, 9.059931, 6.839027, 7.77254, 10.208103, 2.1338892, 5.3838086, 6.115739, 0.8564086, 5.102892, 10.119072, 5.846792, 7.5431843, 6.733712, 0.7099135, 5.9921017, 6.695553] 207.003 121.87066\n",
      "Pass:3, Batch:10, Cost:0.06092\n",
      "[-12.35162, 8.289949, 13.4589615, -12.118027, 6.6368456, 8.381871, -12.086457, -6.976616, 9.778385, 17.4777, 12.23366, 8.441402, 19.057568, 1.1375141, 2.1418552, -6.45314, 16.703371, 0.22922516, 10.07288, 13.182958] [5.6182795, 12.244764, 2.8560858, 1.1615486, 1.2064872, 4.951106, 6.1544075, 8.15143, 2.925104, 6.2568245, 2.9649224, 7.694992, 6.4451017, 7.9830523, 7.733459, 7.8613353, 7.7737217, 8.572353, 6.8778744, 3.5811744] 97.238304 119.01402\n",
      "Pass:3, Batch:20, Cost:0.05678\n",
      "[-6.8297668, 6.7573047, -7.8635144, -12.568342, 4.5146513, 7.1243625, 15.83592, -5.8786564, 13.929198, -7.3232803, 4.7451105, -2.4570189, 11.705015, 9.630054, 15.779364, 16.548288, 16.065632, 11.627731, 7.1873207, 6.9513597] [0.7246909, 10.403293, 1.6694992, 5.975891, 3.0196447, 6.899564, 2.956478, 6.03146, 3.5099096, 2.0447097, 6.6818247, 7.211034, 1.0527394, 10.709112, 5.3476553, 2.32145, 10.800884, 8.243607, 5.678901, 8.528633] 105.48073 109.81099\n",
      "Pass:3, Batch:30, Cost:0.05898\n",
      "[16.940086, 18.320086, -6.0843477, 11.855722, 15.214832, 20.410978, 17.957716, 24.860584, 15.217191, 21.3869, 15.833857, -18.141022, 16.769417, 32.197243, 14.411651, 17.252703, 19.940826, 11.560243, 14.019718, -2.5751925] [4.623638, 2.2874358, 11.127246, 4.593546, 5.605677, 2.0689154, 2.8671713, 11.481051, 5.901281, 3.6608708, 3.3406816, 1.1171432, 4.34998, 6.021005, 2.6512945, 7.8564076, 2.969574, 9.04141, 10.054229, 6.2249594] 277.34918 107.84351\n",
      "Pass:3, Batch:40, Cost:0.04896\n",
      "[11.650959, 17.624693, 10.077951, 11.543686, 11.446369, 19.943363, 15.828915, -8.419912, 13.859407, 20.31472, 15.807618, 8.72749, 12.457449, 11.950921, 12.798944, 1.6084754, 6.197379, 26.72315, 20.613625, 6.6010385] [9.357639, 11.739751, 2.565537, 6.01795, 6.250125, 5.8785686, 2.417508, 10.378691, 9.625693, 5.897443, 3.6952477, 5.4845695, 8.163823, 1.6231678, 11.879709, 6.832408, 7.667061, 7.9264736, 4.578384, 2.3543425] 247.35625 130.33409\n",
      "Pass:3, Batch:50, Cost:0.05309\n",
      "[-6.4344716, 6.089716, 6.030136, 5.3940306, 4.3584166, -7.439959, 10.487253, -9.080389, 10.006819, 0.46098924, -1.8831357, 6.991534, -10.984913, 17.237526, 9.971817, -0.7331629, -9.31531, 4.5839252, -1.3960876, 3.4467912] [6.6277304, 3.4024668, 2.9147065, 2.9087627, 3.1146402, 6.1854253, 8.498955, 2.2556977, 2.4222956, 4.028995, 2.0525677, 12.013887, 7.083254, 11.895203, 4.6221876, 8.745859, 3.166439, 2.3870354, 10.187302, 4.4261017] 37.791534 108.93951\n",
      "Pass:4, Batch:0, Cost:0.05332\n",
      "[4.6128626, 4.7705374, 21.122532, -6.99527, 13.556177, 0.63150215, 11.800007, 2.7274306, 10.235624, 12.967918, 17.874456, 12.428936, 1.332925, 1.5105311, 19.884983, 11.135316, 29.595707, 25.294313, 7.1192617, 2.6861124] [10.630569, 5.233057, 7.7341404, 6.839027, 5.4099474, 5.8821964, 5.9921017, 9.895632, 1.6523756, 2.9177027, 3.7128663, 4.371376, 7.77254, 6.410203, 6.2392426, 7.9002805, 6.695553, 5.102892, 5.7263517, 2.2843778] 204.29185 118.40243\n",
      "Pass:4, Batch:10, Cost:0.04919\n",
      "[-8.853914, 0.01702118, -8.415226, -1.6819212, -7.958773, -0.57281065, -11.454906, 1.589627, 8.626666, -2.5372734, 10.747341, -0.78718376, 3.4733, 6.8462105, 6.256434, 14.054368, 13.81328, -0.8902986, 1.0013437, 17.788933] [5.6182795, 4.9700055, 9.240829, 8.495106, 6.425334, 5.7721853, 6.79438, 1.6742449, 7.694992, 4.2353344, 5.7543654, 1.2064872, 2.925104, 3.5811744, 12.244764, 6.2568245, 8.384289, 2.1815052, 4.951106, 7.7737217] 41.062225 116.18003\n",
      "Pass:4, Batch:20, Cost:0.05053\n",
      "[13.947926, -6.9196463, 12.460337, -4.916714, 14.194099, 9.722611, 13.024519, -11.744513, 10.713698, 7.6045194, 2.2234135, -2.5938609, -4.235069, -9.133055, 10.708672, 8.276282, 3.4033585, 9.752724, 9.019498, 4.205034] [7.3766565, 6.2427845, 5.678901, 6.865115, 6.7752905, 8.528633, 4.2759075, 6.0691338, 10.709112, 10.403293, 7.211034, 1.6694992, 5.2311735, 6.062809, 2.956478, 7.0367804, 5.555872, 2.32145, 1.844347, 1.5593128] 89.713844 114.37358\n",
      "Pass:4, Batch:30, Cost:0.05160\n",
      "[12.866031, 14.654664, 13.173964, 10.446039, 11.131418, 22.033901, 14.5338545, -8.755959, -0.022323847, -15.753155, 25.40678, 15.198978, 5.491993, 14.26146, 1.1395686, 4.523817, 14.663176, 8.808529, 19.58704, 15.533631] [4.34998, 2.8671713, 5.937213, 4.593546, 2.6512945, 3.0327668, 8.387194, 1.8101048, 11.485807, 2.1455925, 11.481051, 10.054229, 7.147463, 8.012651, 6.040362, 10.003301, 3.6608708, 5.305433, 6.203907, 5.605677] 198.9234 120.77562\n",
      "Pass:4, Batch:40, Cost:0.05333\n",
      "[6.329441, -0.7196827, 4.504075, 25.70964, -7.661498, 11.778698, 3.1465154, 12.457109, 7.5792074, 25.187399, 7.9017034, 2.0671968, 14.287523, 11.562543, 10.634119, 7.2380695, 21.546543, 8.443884, 10.591948, 15.195404] [7.667061, 6.7719817, 1.7979419, 10.293243, 0.8192975, 5.4845695, 6.832408, 8.163823, 6.4255333, 7.45603, 2.565537, 8.904215, 11.739751, 4.7337456, 4.275826, 6.01795, 5.8785686, 6.250125, 9.387604, 3.6952477] 197.77982 125.160446\n",
      "Pass:4, Batch:50, Cost:0.04565\n",
      "训练模型保存完成！\n",
      "V100训练用时：12分24秒\n"
     ]
    },
    {
     "data": {
      "text/plain": [
       "<Figure size 432x288 with 0 Axes>"
      ]
     },
     "metadata": {},
     "output_type": "display_data"
    }
   ],
   "source": [
    "# 开始训练\r\n",
    "lists = []\r\n",
    "step = 0\r\n",
    "for pass_id in range(5):\r\n",
    "    # 开始训练\r\n",
    "    for batch_id, batch_data in enumerate(train_reader()):\r\n",
    "        train_cost,sult,lab = exe.run(program=fluid.default_main_program(),\r\n",
    "                             feed=feeder.feed(batch_data),\r\n",
    "                             fetch_list=[avg_cost,net,label])\r\n",
    "        if step % 10 == 0:\r\n",
    "            event_handler_plot(train_prompt,step,train_cost[0])\r\n",
    "        if batch_id % 10 == 0:\r\n",
    "            p = [np.sum(pre) for pre in sult]\r\n",
    "            l = [np.sum(pre) for pre in lab]\r\n",
    "            print(p,l,np.sum(sult),np.sum(lab))\r\n",
    "            print('Pass:%d, Batch:%d, Cost:%0.5f' % (pass_id, batch_id, train_cost[0]))\r\n",
    "        step += 1\r\n",
    "    \r\n",
    "    # 保存模型\r\n",
    "    if model_save_dir is not None:\r\n",
    "        fluid.io.save_inference_model(model_save_dir, ['images'], [net], exe)\r\n",
    "\r\n",
    "print('训练模型保存完成！')\r\n",
    "end = time.time()\r\n",
    "print(time.strftime('V100训练用时：%M分%S秒',time.localtime(end-start)))"
   ]
  },
  {
   "cell_type": "code",
   "execution_count": 23,
   "metadata": {
    "collapsed": false
   },
   "outputs": [
    {
     "name": "stdout",
     "output_type": "stream",
     "text": [
      "119\n",
      "119\n",
      "11 0.94709563\n",
      "14 7.56851\n",
      "20 11.353598\n",
      "18 19.495588\n",
      "5 9.233294\n",
      "10 10.30814\n",
      "5 2.8681846\n",
      "7 5.083844\n",
      "17 6.928925\n",
      "10 6.85556\n",
      "5 3.1358762\n",
      "15 0.5170841\n",
      "5 3.814872\n",
      "8 5.9141145\n",
      "5 2.8065124\n",
      "19 13.105983\n",
      "18 1.3014221\n",
      "8 7.8636575\n",
      "5 0.40443373\n",
      "7 6.014054\n",
      "12 15.789986\n",
      "7 5.619818\n",
      "6 6.383151\n",
      "17 1.7324109\n",
      "12 13.156896\n",
      "8 3.5020473\n",
      "6 6.1726274\n",
      "9 5.411644\n",
      "5 3.7414794\n",
      "11 4.822648\n",
      "19 4.2549143\n",
      "10 0.8963356\n",
      "14 7.6713142\n",
      "8 9.947928\n",
      "8 5.783479\n",
      "10 2.3881407\n",
      "10 21.616467\n",
      "10 0.93448114\n",
      "7 7.32695\n",
      "12 4.2741375\n",
      "5 1.9489528\n",
      "15 13.093082\n",
      "10 2.5345345\n",
      "4 5.749097\n",
      "10 7.4402685\n",
      "20 19.008457\n",
      "9 9.829737\n",
      "20 0.15596604\n",
      "10 6.897939\n",
      "5 4.752079\n",
      "7 0.63099587\n",
      "6 1.4687413\n",
      "14 12.647503\n",
      "6 5.444378\n",
      "7 2.07972\n",
      "6 2.6917105\n",
      "7 0.36872888\n",
      "5 5.5002313\n",
      "18 8.984569\n",
      "13 2.9928358\n",
      "4 4.3154755\n",
      "12 10.963528\n",
      "3 10.592214\n",
      "5 5.204744\n",
      "13 1.3505814\n",
      "5 4.3149858\n",
      "4 14.991837\n",
      "4 4.967469\n",
      "5 3.060967\n",
      "8 2.6657054\n",
      "5 8.505264\n",
      "11 23.862988\n",
      "18 0.9760499\n",
      "4 9.77466\n",
      "5 0.7176082\n",
      "13 8.3539095\n",
      "6 2.0592573\n",
      "2 7.082823\n",
      "7 0.40094995\n",
      "15 13.480228\n",
      "6 1.6951964\n",
      "5 3.5339885\n",
      "5 4.7390094\n",
      "13 0.4998665\n",
      "12 7.9877834\n",
      "20 6.586385\n",
      "2 15.481996\n",
      "19 3.8441768\n",
      "10 22.812609\n",
      "10 13.550013\n",
      "14 7.39895\n",
      "12 9.266455\n",
      "6 5.813202\n",
      "10 11.719128\n",
      "7 5.9128275\n",
      "6 5.446516\n",
      "11 4.44234\n",
      "5 3.7771704\n",
      "18 17.51759\n",
      "15 1.3139777\n",
      "15 5.349632\n",
      "1 16.826443\n",
      "10 5.4687924\n",
      "5 5.5441594\n",
      "6 1.5827312\n",
      "5 5.7242193\n",
      "10 14.7013855\n",
      "19 2.7859132\n",
      "2 10.065281\n",
      "10 6.8852563\n",
      "18 7.115903\n",
      "7 5.6868215\n",
      "19 26.064493\n",
      "15 8.879674\n",
      "8 4.7554245\n",
      "8 4.7387505\n",
      "8 0.66743296\n",
      "4 0.55595326\n",
      "11 8.002952\n",
      "cost 5.302905985788137\n",
      "acc 0.09243697478991597\n"
     ]
    }
   ],
   "source": [
    "use = True\r\n",
    "place1 = fluid.CUDAPlace(0) if use else fluid.CPUPlace()\r\n",
    "infer_exe = fluid.Executor(place1)\r\n",
    "\r\n",
    "inference_scope = fluid.core.Scope()  \r\n",
    "\r\n",
    "model_save_dir = 'model'\r\n",
    "\r\n",
    "ans = []\r\n",
    "with fluid.scope_guard(inference_scope):\r\n",
    "    [inference_program,                          \r\n",
    "     feed_target_names,                           \r\n",
    "     fetch_targets] = fluid.io.load_inference_model(model_save_dir,infer_exe)      \r\n",
    "\r\n",
    "    for index in range(len(test_data)):\r\n",
    "        test_img = Image.open(test_data[index]['name'])\r\n",
    "        test_img = test_img.resize((640,480),Image.ANTIALIAS)\r\n",
    "        test_im = np.array(test_img)\r\n",
    "        test_im = test_im / 255.0\r\n",
    "        test_im = test_im.transpose().reshape(1,3,640,480).astype('float32')\r\n",
    "\r\n",
    "        result = infer_exe.run(inference_program,\r\n",
    "                            feed={feed_target_names[0]: test_im},\r\n",
    "                            fetch_list=fetch_targets)\r\n",
    "    \r\n",
    "        people = abs(np.sum(result))\r\n",
    "        ans.append(people)\r\n",
    "    print(len(test_data))\r\n",
    "    print(len(ans))\r\n",
    "    cost_sum = 0\r\n",
    "    acc = 0\r\n",
    "    for i in range(len(test_data)):\r\n",
    "        if int(test_data[i]['num']) == int(ans[i]):\r\n",
    "            acc = acc + 1\r\n",
    "        print(test_data[i]['num'], ans[i])\r\n",
    "        cost_sum = cost_sum + abs(test_data[i]['num']-ans[i])\r\n",
    "    print('cost:', cost_sum/len(test_data))\r\n",
    "    print('acc:', acc/len(test_data))\r\n"
   ]
  }
 ],
 "metadata": {
  "kernelspec": {
   "display_name": "PaddlePaddle 1.6.2 (Python 3.5)",
   "language": "python",
   "name": "py35-paddle1.2.0"
  },
  "language_info": {
   "codemirror_mode": {
    "name": "ipython",
    "version": 3
   },
   "file_extension": ".py",
   "mimetype": "text/x-python",
   "name": "python",
   "nbconvert_exporter": "python",
   "pygments_lexer": "ipython3",
   "version": "3.7.4"
  }
 },
 "nbformat": 4,
 "nbformat_minor": 1
}
